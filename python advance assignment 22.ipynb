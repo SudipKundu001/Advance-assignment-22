{
 "cells": [
  {
   "cell_type": "markdown",
   "id": "18825845",
   "metadata": {},
   "source": [
    "## python advance assignment 22"
   ]
  },
  {
   "cell_type": "markdown",
   "id": "47f51fa8",
   "metadata": {},
   "source": [
    "**Q1. What are the benefits of the built-in array package, if any?**\n",
    "\n",
    "Ans:-It is often convenient to use a list where you do not need to know the data type or length. However, arrays are a more \n",
    "\n",
    "direct way of accessing data in memory so they are much faster and more efficient\n",
    "\n",
    "Built-in array module defines an object type which can efficiently represent an array of basic values: characters, integers, \n",
    "\n",
    "floating point numbers. Arrays are sequence types and behave very much like lists, except that the type of objects stored in \n",
    "\n",
    "them is constrained. This means objects stored in the array are of a homogeneous(same) type"
   ]
  },
  {
   "cell_type": "markdown",
   "id": "e89ddf07",
   "metadata": {},
   "source": [
    "**Q2. What are some of the array package's limitations?**\n",
    "\n",
    "Ans:-An array has a fixed size which means you cannot add/delete elements after creation. ...\n",
    "\n",
    "Unlike lists in Python, cannot store values of different data types in a single array.\n",
    "\n",
    "In the case of a large number of records, it may take more space than required for storing the same information."
   ]
  },
  {
   "cell_type": "markdown",
   "id": "e8458bee",
   "metadata": {},
   "source": [
    "**Q3. Describe the main differences between the array and numpy packages.**\n",
    "\n",
    "Ans:-The array package doesn't provide any help with numerical calculation with the items insdie it in number form while NumPy \n",
    "\n",
    "give you a wide variety of numerical operations.\n",
    "\n",
    "An array is a single dimensional entity which hold the numerical data, while numpy can have more than 1 dimension.\n",
    "\n",
    "In case of array, item can be accessed by its index position and it is easy task while in numpy item is accessed by its column \n",
    "\n",
    "and row index, which makes it slightly time taking. Same goes with appending operation.\n",
    "\n",
    "In case of array we do not form a tabular structure, while in numpy it forms a tabular structure"
   ]
  },
  {
   "cell_type": "markdown",
   "id": "69df3bbd",
   "metadata": {},
   "source": [
    "**Q4. Explain the distinctions between the empty, ones, and zeros functions.**\n",
    "\n",
    "Ans:-Empty function: An empty function is a function that does not contain any statement within its body. If you try to write \n",
    "\n",
    "a function definition without any statement in python ,it will return an error. To avoid this, we use pass statement. pass is \n",
    "\n",
    "a special statement in Python that does nothing. It only works as a dummy statement.\n",
    "\n",
    "Ones: This function returns a new array of given shape and data type, where the element’s value is 1.\n",
    "\n",
    "Ones() function works like the zeros() function. But the elements of the array created by the ones() function are initialized \n",
    "\n",
    "to  1\n",
    "\n",
    "Zeros: Zeros() function is used to create an array based on the particular shape and type. All array elements are initialized \n",
    "\n",
    "to 0, which is created by the zeros() function.This function returns a new array of given shape and data type, where the \n",
    "\n",
    "element’s value is 0."
   ]
  },
  {
   "cell_type": "markdown",
   "id": "77ae1752",
   "metadata": {},
   "source": [
    "**Q5. In the fromfunction function, which is used to construct new arrays, what is the role of the callable \n",
    "argument?**\n",
    "\n",
    "Ans:-numpy.fromfunction() function construct an array by executing a function over each coordinate and the resulting array, \n",
    "\n",
    "therefore, has a value fn(x, y, z) at coordinate (x, y, z).\n",
    "\n",
    "Syntax : numpy.fromfunction(function, shape,  dtype)\n",
    "\n",
    "Parameters :\n",
    "\n",
    "function : [callable] The function is called with N parameters, where N is the rank of shape. Each parameter represents the \n",
    "\n",
    "coordinates of the array varying along a specific axis."
   ]
  },
  {
   "cell_type": "markdown",
   "id": "c38d4b4b",
   "metadata": {},
   "source": [
    "**Q6. What happens when a numpy array is combined with a single-value operand (a scalar, such as \n",
    "an int or a floating-point value) through addition, as in the expression A + n?**\n",
    "\n",
    "Ans:- If any scaler value such as integer is added to the numpy array then all the elements inside the array will add that \n",
    "\n",
    "value in it."
   ]
  },
  {
   "cell_type": "markdown",
   "id": "e2b4fe3b",
   "metadata": {},
   "source": [
    "**Q7. Can array-to-scalar operations use combined operation-assign operators (such as += or *=)? \n",
    "What is the outcome?\n",
    "\n",
    "Ans:-It will carry out provided operation on all elements of array."
   ]
  },
  {
   "cell_type": "markdown",
   "id": "5bce7c03",
   "metadata": {},
   "source": [
    "**Q8. Does a numpy array contain fixed-length strings? What happens if you allocate a longer string to \n",
    "one of these arrays?**\n",
    "\n",
    "Ans:-Yes, it is possible that we can include a string of fixed length in numpy array. The dtype of any numpy array containing \n",
    "\n",
    "string values is the maximum length of any string present in the array.Once set, it will only be able to store new string \n",
    "\n",
    "having length not more than the maximum length at the time of the creation. If we try to reassign some another string value \n",
    "\n",
    "having length greater than the maximum length of the existing elements, it simply discards all the values beyond the maximum \n",
    "\n",
    "length accept upto those values which are under the limit."
   ]
  },
  {
   "cell_type": "markdown",
   "id": "e2e0917f",
   "metadata": {},
   "source": [
    "**Q9. What happens when you combine two numpy arrays using an operation like addition (+) or \n",
    "multiplication (*)? What are the conditions for combining two numpy arrays?**\n",
    "\n",
    "Ans:- Yes, it is possible that we can include a string of fixed length in numpy array. The dtype of any numpy array containing \n",
    "\n",
    "string values is the maximum length of any string present in the array.Once set, it will only be able to store new string \n",
    "\n",
    "having length not more than the maximum length at the time of the creation. If we try to reassign some another string value \n",
    "\n",
    "having length greater than the maximum length of the existing elements, it simply discards all the values beyond the maximum \n",
    "\n",
    "length accept upto those values which are under the limit.\n",
    "\n"
   ]
  },
  {
   "cell_type": "markdown",
   "id": "ec8e7abe",
   "metadata": {},
   "source": [
    "**Q10. What is the best way to use a Boolean array to mask another array?**\n",
    "\n",
    "Ans:-Masks are an array that contains the list of boolean values for the given condition. The masked array is the arrays that \n",
    "\n",
    "have invalid or missing entries.\n",
    "\n",
    "Using Masking of arrays we can easily handle the missing, invalid, or unwanted entries in our array or dataset/dataframe. \n",
    "\n",
    "Masking is essential works with the list of Boolean values i.e, True or False which when applied to an original array to \n",
    "\n",
    "return the element of interest, here True refers to the value that satisfies the given condition whereas False refers to \n",
    "\n",
    "values that fail to satisfy the condition.\n",
    "\n",
    "We can mask the array using another by using the following functions:-\n",
    "\n",
    "numpy.ma.masked_where(condition, arr)\n",
    "\n",
    "numpy.ma.getmask(arr)\n",
    "\n",
    "numpy.ma.masked_array(arr, mask=)\n",
    "\n",
    "where,\n",
    "\n",
    "condition: condition for masking\n",
    "\n",
    "arr: arr to be masked\n",
    "\n",
    "mask: result of masked array"
   ]
  },
  {
   "cell_type": "markdown",
   "id": "3fb21eb6",
   "metadata": {},
   "source": [
    "**Q11. What are three different ways to get the standard deviation of a wide collection of data using \n",
    "both standard Python and its packages? Sort the three of them by how quickly they execute**\n",
    "\n",
    "Ans:-The standard deviation measures the amount of variation or dispersion of a set of numeric values. Standard deviation is \n",
    "\n",
    "the square root of variance σ2 and is denoted as σ. So, if we want to calculate the standard deviation, then all we just have \n",
    "\n",
    "to do is to take the square root of the variance.To calculate the standard deviation of a dataset, we're going to rely on our \n",
    "\n",
    "variance() function. We're also going to use the sqrt() function from the math module of the Python standard library. Here's a \n",
    "\n",
    "function called stdev().There are a number of ways to compute standard deviation in Python. You can write your own function to \n",
    "\n",
    "calculate the standard deviation or use off-the-shelf methods from numpy or pandas.\n",
    "\n",
    "Let’s write a vanilla implementation of calculating std dev from scratch in Python without using any external libraries.\n",
    "\n",
    "The three methods are as folloeing:-"
   ]
  },
  {
   "cell_type": "code",
   "execution_count": 2,
   "id": "8d627d73",
   "metadata": {},
   "outputs": [
    {
     "data": {
      "text/plain": [
       "3.6550478793033614"
      ]
     },
     "execution_count": 2,
     "metadata": {},
     "output_type": "execute_result"
    }
   ],
   "source": [
    "def get_std_dev(ls):\n",
    "    n = len(ls)\n",
    "    mean = sum(ls) / n\n",
    "    var = sum((x - mean)**2 for x in ls) / n\n",
    "    std_dev = var ** 0.5\n",
    "    return std_dev\n",
    "# create a list of data points\n",
    "ls = [7, 2, 4, 3, 9, 12, 10, 2]\n",
    "get_std_dev(ls)"
   ]
  },
  {
   "cell_type": "markdown",
   "id": "69a54921",
   "metadata": {},
   "source": [
    "We can store the list of values as a numpy array and then use the numpy ndarray std() function to directly calculate the standard deviation. Here’s an example –"
   ]
  },
  {
   "cell_type": "code",
   "execution_count": 3,
   "id": "3369eb28",
   "metadata": {},
   "outputs": [
    {
     "name": "stdout",
     "output_type": "stream",
     "text": [
      "3.6550478793033614\n"
     ]
    }
   ],
   "source": [
    "import numpy as np\n",
    "# list of data points\n",
    "ls = [7, 2, 4, 3, 9, 12, 10, 2]\n",
    "# create numpy array of list values\n",
    "ar = np.array(ls)\n",
    "# get the standard deviation\n",
    "print(ar.std())"
   ]
  },
  {
   "cell_type": "markdown",
   "id": "f5593def",
   "metadata": {},
   "source": [
    "We can also store the list of values as pandas series and then compute its standard deviation using the pandas series std() \n",
    "\n",
    "function.\n",
    "\n",
    "This method is very similar to the numpy array method. In fact, under the hood, a number of pandas methods are wrappers on \n",
    "\n",
    "numpy methods.\n",
    "\n",
    "Let’s compute the standard deviation of the same list of values using pandas this time."
   ]
  },
  {
   "cell_type": "code",
   "execution_count": 4,
   "id": "0148baa0",
   "metadata": {},
   "outputs": [
    {
     "name": "stdout",
     "output_type": "stream",
     "text": [
      "3.9074105418879577\n"
     ]
    }
   ],
   "source": [
    "import pandas as pd\n",
    "# list of data points\n",
    "ls = [7, 2, 4, 3, 9, 12, 10, 2]\n",
    "# create pandas series of list values\n",
    "col = pd.Series(ls)\n",
    "# get the standard deviation\n",
    "print(col.std())"
   ]
  },
  {
   "cell_type": "markdown",
   "id": "71c0f0fd",
   "metadata": {},
   "source": [
    "**12. What is the dimensionality of a Boolean mask-generated array?**\n",
    "\n",
    "Ans:- It will have same dimensionality as input array."
   ]
  }
 ],
 "metadata": {
  "kernelspec": {
   "display_name": "Python 3 (ipykernel)",
   "language": "python",
   "name": "python3"
  },
  "language_info": {
   "codemirror_mode": {
    "name": "ipython",
    "version": 3
   },
   "file_extension": ".py",
   "mimetype": "text/x-python",
   "name": "python",
   "nbconvert_exporter": "python",
   "pygments_lexer": "ipython3",
   "version": "3.9.7"
  }
 },
 "nbformat": 4,
 "nbformat_minor": 5
}
